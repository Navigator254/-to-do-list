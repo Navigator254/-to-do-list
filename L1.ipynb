{
  "nbformat": 4,
  "nbformat_minor": 0,
  "metadata": {
    "colab": {
      "name": "L1.ipynb",
      "provenance": [],
      "collapsed_sections": [],
      "authorship_tag": "ABX9TyNbUla/VKJuuSx8jmje8w7O",
      "include_colab_link": true
    },
    "kernelspec": {
      "name": "python3",
      "display_name": "Python 3"
    }
  },
  "cells": [
    {
      "cell_type": "markdown",
      "metadata": {
        "id": "view-in-github",
        "colab_type": "text"
      },
      "source": [
        "<a href=\"https://colab.research.google.com/github/Navigator254/-to-do-list/blob/master/L1.ipynb\" target=\"_parent\"><img src=\"https://colab.research.google.com/assets/colab-badge.svg\" alt=\"Open In Colab\"/></a>"
      ]
    },
    {
      "cell_type": "code",
      "metadata": {
        "id": "HsSNFwAYcC4Y"
      },
      "source": [
        "import numpy as np\n",
        "import math"
      ],
      "execution_count": 1,
      "outputs": []
    },
    {
      "cell_type": "code",
      "metadata": {
        "colab": {
          "base_uri": "https://localhost:8080/"
        },
        "id": "vdI4XiiccSuc",
        "outputId": "3d7eed96-37c8-402d-dba3-df90dec7b035"
      },
      "source": [
        "def L1(y_at, y):\n",
        "\t\"\"\"\n",
        "\tArguments:\n",
        "\ty_hat -- vector of size m(predicted labels)\n",
        "\ty -- vector of size m(true labels)\n",
        "\treturns:\n",
        "\tloss -- the value of the L1 loss function defined above\n",
        "\t\"\"\"\n",
        "\ts = np.sum(np.abs(y - y_at))\n",
        "\treturn s\n",
        "y_at = np.array([.9,0.2,0.1,.4,.9])\n",
        "y = np.array([1,0,0,1,1])\n",
        "print(\"L1 = \" + str(L1(y_at, y)))"
      ],
      "execution_count": 2,
      "outputs": [
        {
          "output_type": "stream",
          "text": [
            "L1 = 1.1\n"
          ],
          "name": "stdout"
        }
      ]
    }
  ]
}