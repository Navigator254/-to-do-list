{
  "nbformat": 4,
  "nbformat_minor": 0,
  "metadata": {
    "colab": {
      "name": "img2_v.ipynb",
      "provenance": [],
      "collapsed_sections": [],
      "authorship_tag": "ABX9TyPnRgHCnl8f9T6CwFNG5+ct",
      "include_colab_link": true
    },
    "kernelspec": {
      "name": "python3",
      "display_name": "Python 3"
    }
  },
  "cells": [
    {
      "cell_type": "markdown",
      "metadata": {
        "id": "view-in-github",
        "colab_type": "text"
      },
      "source": [
        "<a href=\"https://colab.research.google.com/github/Navigator254/-to-do-list/blob/master/img2_v.ipynb\" target=\"_parent\"><img src=\"https://colab.research.google.com/assets/colab-badge.svg\" alt=\"Open In Colab\"/></a>"
      ]
    },
    {
      "cell_type": "code",
      "metadata": {
        "id": "LsSiA10Hig60"
      },
      "source": [
        "import numpy as np"
      ],
      "execution_count": 1,
      "outputs": []
    },
    {
      "cell_type": "code",
      "metadata": {
        "colab": {
          "base_uri": "https://localhost:8080/"
        },
        "id": "eBwPps3Binac",
        "outputId": "6a52bd01-7536-4f2d-89d7-5859973b311f"
      },
      "source": [
        "#Image\n",
        "#\n",
        "def image2vector(image):\n",
        "\tv = image.reshape(image.shape[0] * image.shape[1] * image.shape[2], 1)\n",
        "\treturn v\n",
        "image = np.random.rand(3,3,2)\n",
        "print(\"image2vector(image) = \" + str(image2vector(image)))"
      ],
      "execution_count": 2,
      "outputs": [
        {
          "output_type": "stream",
          "text": [
            "image2vector(image) = [[0.38746744]\n",
            " [0.67765975]\n",
            " [0.32779174]\n",
            " [0.65551042]\n",
            " [0.12107844]\n",
            " [0.54329399]\n",
            " [0.50921602]\n",
            " [0.3557964 ]\n",
            " [0.96838782]\n",
            " [0.46020864]\n",
            " [0.19261501]\n",
            " [0.37979472]\n",
            " [0.966569  ]\n",
            " [0.25826383]\n",
            " [0.20292042]\n",
            " [0.69789177]\n",
            " [0.56071282]\n",
            " [0.58542936]]\n"
          ],
          "name": "stdout"
        }
      ]
    }
  ]
}