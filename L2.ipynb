{
  "nbformat": 4,
  "nbformat_minor": 0,
  "metadata": {
    "colab": {
      "name": "L2.ipynb",
      "provenance": [],
      "collapsed_sections": [],
      "authorship_tag": "ABX9TyPn23UwtWigL+j7uWjErxmL",
      "include_colab_link": true
    },
    "kernelspec": {
      "name": "python3",
      "display_name": "Python 3"
    }
  },
  "cells": [
    {
      "cell_type": "markdown",
      "metadata": {
        "id": "view-in-github",
        "colab_type": "text"
      },
      "source": [
        "<a href=\"https://colab.research.google.com/github/Navigator254/-to-do-list/blob/master/L2.ipynb\" target=\"_parent\"><img src=\"https://colab.research.google.com/assets/colab-badge.svg\" alt=\"Open In Colab\"/></a>"
      ]
    },
    {
      "cell_type": "code",
      "metadata": {
        "id": "Qhh_nLT-dGwI"
      },
      "source": [
        "import numpy as np\n",
        "import math\n"
      ],
      "execution_count": 1,
      "outputs": []
    },
    {
      "cell_type": "code",
      "metadata": {
        "colab": {
          "base_uri": "https://localhost:8080/"
        },
        "id": "ZhqK9XSmdU78",
        "outputId": "fc35ddbb-26b7-4d11-83b9-1afc9d66b4c6"
      },
      "source": [
        "\n",
        "# L2 loss function\n",
        "def L2(y_hat,y):\n",
        "\ts = np.dot(y - y_hat, y - y_hat)\n",
        "\t\n",
        "\treturn s\n",
        "y_hat = np.array([.9,0.2,0.1,.4,.9])  \n",
        "y= np.array([.9,0.1,0.1,.4,.9])\n",
        "print(\"L2 = \" + str(L2(y_hat,y)))"
      ],
      "execution_count": 3,
      "outputs": [
        {
          "output_type": "stream",
          "text": [
            "L2 = 0.010000000000000002\n"
          ],
          "name": "stdout"
        }
      ]
    }
  ]
}